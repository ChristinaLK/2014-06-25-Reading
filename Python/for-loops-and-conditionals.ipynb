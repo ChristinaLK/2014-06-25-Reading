{
 "metadata": {
  "name": ""
 },
 "nbformat": 3,
 "nbformat_minor": 0,
 "worksheets": [
  {
   "cells": [
    {
     "cell_type": "markdown",
     "metadata": {},
     "source": [
      "We have created a function called `analyze` that creates graphs of the minimum, average, and maximum daily inflammation rates\n",
      "for a single data set:"
     ]
    },
    {
     "cell_type": "code",
     "collapsed": false,
     "input": [
      "%matplotlib inline\n",
      "\n",
      "import numpy as np\n",
      "from matplotlib import pyplot as plt\n",
      "\n",
      "def analyze(filename):\n",
      "    data = np.loadtxt(fname=filename, delimiter=',')\n",
      "    \n",
      "    plt.figure(figsize=(10.0, 3.0))\n",
      "    \n",
      "    plt.subplot(1, 3, 1)\n",
      "    plt.ylabel('average')\n",
      "    plt.plot(data.mean(0))\n",
      "    \n",
      "    plt.subplot(1, 3, 2)\n",
      "    plt.ylabel('max')\n",
      "    plt.plot(data.max(0))\n",
      "    \n",
      "    plt.subplot(1, 3, 3)\n",
      "    plt.ylabel('min')\n",
      "    plt.plot(data.min(0))\n",
      "    \n",
      "    plt.tight_layout()\n",
      "    plt.show()\n",
      "\n",
      "analyze('inflammation-01.csv')"
     ],
     "language": "python",
     "metadata": {},
     "outputs": []
    },
    {
     "cell_type": "markdown",
     "metadata": {},
     "source": [
      "We can use it to analyze other data sets one by one, but we have a dozen data sets right now and more on the way.\n",
      "We want to create plots for all our data sets with a single statement.\n",
      "To do that,\n",
      "we'll have to teach the computer how to repeat things."
     ]
    },
    {
     "cell_type": "markdown",
     "metadata": {},
     "source": [
      "##for loops"
     ]
    },
    {
     "cell_type": "markdown",
     "metadata": {},
     "source": [
      "The general form of a loop is:\n",
      "\n",
      "<pre>\n",
      "<strong>for</strong> <em>variable</em> <strong>in</strong> <em>collection</em><strong>:</strong>\n",
      "    <em>do things with variable</em>\n",
      "</pre>"
     ]
    },
    {
     "cell_type": "code",
     "collapsed": false,
     "input": [
      "voltages = [-2.0, -1.0, 0.0, 1.0, 2.0]"
     ],
     "language": "python",
     "metadata": {},
     "outputs": []
    },
    {
     "cell_type": "code",
     "collapsed": false,
     "input": [
      "##printing elements"
     ],
     "language": "python",
     "metadata": {},
     "outputs": []
    },
    {
     "cell_type": "code",
     "collapsed": false,
     "input": [
      "##calculations"
     ],
     "language": "python",
     "metadata": {},
     "outputs": []
    },
    {
     "cell_type": "code",
     "collapsed": false,
     "input": [
      "data_dict = {\"experiment\": \"current vs. voltage\",\n",
      "        \"run\": 47,\n",
      "        \"temperature\": 372.756, \n",
      "        \"currents\": [-1.0, -0.5, 0.0, 0.5, 1.0], \n",
      "        \"voltages\": [-2.0, -1.0, 0.0, 1.0, 2.0],\n",
      "        }"
     ],
     "language": "python",
     "metadata": {},
     "outputs": [],
     "prompt_number": 1
    },
    {
     "cell_type": "code",
     "collapsed": false,
     "input": [
      "##printing"
     ],
     "language": "python",
     "metadata": {},
     "outputs": []
    },
    {
     "cell_type": "markdown",
     "metadata": {},
     "source": [
      "**Exercises**\n",
      "\n",
      "1.  Python has a built-in function called `range` that creates a list of numbers:\n",
      "    `range(3)` produces `[0, 1, 2]`, `range(2, 5)` produces `[2, 3, 4]`, and `range(2, 10, 3)` produces `[2, 5, 8]`.\n",
      "    Using `range`,\n",
      "    write a function that prints the $N$ natural numbers:\n",
      "    \n",
      "    ~~~python\n",
      "    print_N(3)\n",
      "    1\n",
      "    2\n",
      "    3\n",
      "    ~~~\n",
      "\n",
      "1.  Write a function called `rev` that takes a string as input, and produces a new string with the characters in reverse order:\n",
      "    \n",
      "    ~~~python\n",
      "    print rev('Newton')\n",
      "    notweN\n",
      "    ~~~\n",
      "    \n",
      "    As always, be sure to include a docstring.\n",
      "\n",
      "1. Given the following file list, Write a function called `analyze_all` that takes `file_list` as its sole argument\n",
      "    and runs `analyze` for each file in the list."
     ]
    },
    {
     "cell_type": "code",
     "collapsed": false,
     "input": [
      "file_list = ['inflammation-01.csv', 'inflammation-02.csv', \n",
      "             'inflammation-03.csv', 'inflammation-04.csv', \n",
      "             'inflammation-05.csv', 'inflammation-06.csv', \n",
      "             'inflammation-07.csv', 'inflammation-08.csv', \n",
      "             'inflammation-09.csv', 'inflammation-10.csv', \n",
      "             'inflammation-11.csv', 'inflammation-12.csv']"
     ],
     "language": "python",
     "metadata": {},
     "outputs": []
    },
    {
     "cell_type": "markdown",
     "metadata": {},
     "source": [
      "##conditionals"
     ]
    },
    {
     "cell_type": "markdown",
     "metadata": {},
     "source": [
      "Python comes with literal comparison operators.  Namely, `< > <= >= == !=`.  All comparisons return the literal Boolean values: `True` or `False`.  These can be used to test values against one another. For example,"
     ]
    },
    {
     "cell_type": "code",
     "collapsed": false,
     "input": [
      "2 + 2 == 4"
     ],
     "language": "python",
     "metadata": {},
     "outputs": []
    },
    {
     "cell_type": "code",
     "collapsed": false,
     "input": [
      "'big' > 'small'"
     ],
     "language": "python",
     "metadata": {},
     "outputs": []
    },
    {
     "cell_type": "code",
     "collapsed": false,
     "input": [
      "1 == 1.0 and 'hello' == 'hello'"
     ],
     "language": "python",
     "metadata": {},
     "outputs": []
    },
    {
     "cell_type": "code",
     "collapsed": false,
     "input": [
      "1 > 10 or False"
     ],
     "language": "python",
     "metadata": {},
     "outputs": []
    },
    {
     "cell_type": "code",
     "collapsed": false,
     "input": [
      "42 < 24 or True and 'wow' != 'mom'"
     ],
     "language": "python",
     "metadata": {},
     "outputs": []
    },
    {
     "cell_type": "code",
     "collapsed": false,
     "input": [
      "not 2 + 2 == 5"
     ],
     "language": "python",
     "metadata": {},
     "outputs": []
    },
    {
     "cell_type": "code",
     "collapsed": false,
     "input": [
      "'1' < 2          # comparing a string and an int"
     ],
     "language": "python",
     "metadata": {},
     "outputs": []
    },
    {
     "cell_type": "code",
     "collapsed": false,
     "input": [
      "True == 'True'   # comparing a Boolean and a string"
     ],
     "language": "python",
     "metadata": {},
     "outputs": []
    },
    {
     "cell_type": "markdown",
     "metadata": {},
     "source": [
      "Comparisons can be used to control program behavior by placing them in an **if** statement.  Such statements have the following form:\n",
      "\n",
      "    if <condition>:\n",
      "        <indented block of code>\n",
      "\n",
      "The indented code will only be execute if the condition evaluates to `True`, which is a special Boolean value."
     ]
    },
    {
     "cell_type": "code",
     "collapsed": false,
     "input": [],
     "language": "python",
     "metadata": {},
     "outputs": []
    },
    {
     "cell_type": "markdown",
     "metadata": {},
     "source": [
      "Many cases may be tested by using the **elif** statement.  These come between all the `if` and `else` statements:\n",
      "\n",
      "    if <if-condition>:\n",
      "        <if-block>\n",
      "    elif <elif-condition>:\n",
      "        <elif-block>\n",
      "    else:\n",
      "        <else-block>\n",
      "        \n",
      "When if-condition is true then only the if-block is executed.  When elif-condition is true then only the elif-block is executed.  When neither of these are true then the else-block is executed."
     ]
    },
    {
     "cell_type": "code",
     "collapsed": false,
     "input": [],
     "language": "python",
     "metadata": {},
     "outputs": []
    },
    {
     "cell_type": "markdown",
     "metadata": {},
     "source": [
      "**Exercise**\n",
      "\n",
      "Write an `if` statement that prints whether x is even or odd. \n",
      "\n",
      "Hint:  % is the **modular division operator**.  `a % b` returns the remainder after a is divided by b: "
     ]
    },
    {
     "cell_type": "code",
     "collapsed": false,
     "input": [
      "print 3 % 2 \n",
      "print 4 % 2\n",
      "print 5 % 2\n",
      "print 6 % 2"
     ],
     "language": "python",
     "metadata": {},
     "outputs": []
    },
    {
     "cell_type": "code",
     "collapsed": false,
     "input": [
      "print x\n",
      "#  Your code goes here"
     ],
     "language": "python",
     "metadata": {},
     "outputs": []
    },
    {
     "cell_type": "markdown",
     "metadata": {},
     "source": [
      "**Exercise**\n",
      "\n",
      "Combining a for-loop and conditional statement, write a function that takes a list as input and returns the largest and smallest values.  "
     ]
    },
    {
     "cell_type": "code",
     "collapsed": false,
     "input": [
      "sample_list = [3, 2.2, 7, 9, -1, 41, 9.1]"
     ],
     "language": "python",
     "metadata": {},
     "outputs": []
    },
    {
     "cell_type": "code",
     "collapsed": false,
     "input": [],
     "language": "python",
     "metadata": {},
     "outputs": []
    }
   ],
   "metadata": {}
  }
 ]
}